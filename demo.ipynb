{
 "cells": [
  {
   "cell_type": "code",
   "execution_count": 1,
   "metadata": {},
   "outputs": [],
   "source": [
    "from demo.demo import start_demo\n",
    "from simulation.world import World\n",
    "from simulation.enemy import Enemy\n",
    "import numpy as np\n",
    "\n",
    "world = World()\n",
    "\n",
    "world.enemies = [Enemy(vel=np.random.uniform(-10, 10, 2), pos=np.random.uniform(-256, 256, 2), rad=int(np.random.uniform(10, 20))) for _ in range(20)]\n",
    "world.player.rad = 30\n",
    "\n",
    "start_demo(world)"
   ]
  },
  {
   "cell_type": "code",
   "execution_count": null,
   "metadata": {},
   "outputs": [],
   "source": []
  }
 ],
 "metadata": {
  "kernelspec": {
   "display_name": "Python 3.10.6 ('dl')",
   "language": "python",
   "name": "python3"
  },
  "language_info": {
   "codemirror_mode": {
    "name": "ipython",
    "version": 3
   },
   "file_extension": ".py",
   "mimetype": "text/x-python",
   "name": "python",
   "nbconvert_exporter": "python",
   "pygments_lexer": "ipython3",
   "version": "3.10.6"
  },
  "orig_nbformat": 4,
  "vscode": {
   "interpreter": {
    "hash": "50d1bf4b9148827e609ee81bac728110216a969d058d789edc2677a92739b380"
   }
  }
 },
 "nbformat": 4,
 "nbformat_minor": 2
}
